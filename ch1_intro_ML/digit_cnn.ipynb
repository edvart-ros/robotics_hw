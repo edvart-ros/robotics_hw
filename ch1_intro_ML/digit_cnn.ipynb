{
 "cells": [
  {
   "cell_type": "code",
   "execution_count": 2,
   "metadata": {},
   "outputs": [],
   "source": [
    "import keras\n",
    "from keras.models import Sequential\n",
    "from keras.layers import Dense, Flatten\n",
    "from keras.layers import Conv2D, MaxPooling2D\n",
    "from keras.datasets import mnist"
   ]
  },
  {
   "cell_type": "code",
   "execution_count": 3,
   "metadata": {},
   "outputs": [
    {
     "name": "stdout",
     "output_type": "stream",
     "text": [
      "Downloading data from https://storage.googleapis.com/tensorflow/tf-keras-datasets/mnist.npz\n",
      "11490434/11490434 [==============================] - 1s 0us/step\n",
      "(60000, 28, 28, 1) (60000,)\n"
     ]
    }
   ],
   "source": [
    "(X_train, y_train), (X_test, y_test) = mnist.load_data()\n",
    "X_train = X_train.reshape(X_train.shape[0], 28, 28, 1)\n",
    "X_test = X_test.reshape(X_test.shape[0], 28, 28, 1)\n",
    "print(X_train.shape , y_train.shape)\n",
    "input_shape = (28,28,1)\n",
    "num_classes = 10"
   ]
  },
  {
   "cell_type": "code",
   "execution_count": 4,
   "metadata": {},
   "outputs": [
    {
     "name": "stdout",
     "output_type": "stream",
     "text": [
      "X_train.shape (10000, 28, 28, 1)\n",
      "60000 Train Sample\n",
      "10000 Test Sample\n"
     ]
    }
   ],
   "source": [
    "y_train = keras.utils.to_categorical(y_train, num_classes)\n",
    "y_test = keras.utils.to_categorical(y_test, num_classes)\n",
    "X_train = X_train.astype('float32')\n",
    "X_test = X_test.astype('float32')\n",
    "X_train = X_train/255\n",
    "X_test = X_test/255\n",
    "print('X_train.shape', X_test.shape)\n",
    "print(X_train.shape[0], 'Train Sample')\n",
    "print(X_test.shape[0], 'Test Sample')"
   ]
  },
  {
   "cell_type": "code",
   "execution_count": 5,
   "metadata": {},
   "outputs": [
    {
     "name": "stdout",
     "output_type": "stream",
     "text": [
      "Epoch 1/10\n",
      "469/469 [==============================] - 35s 73ms/step - loss: 2.2578 - accuracy: 0.2442 - val_loss: 2.2101 - val_accuracy: 0.4147\n",
      "Epoch 2/10\n",
      "469/469 [==============================] - 36s 77ms/step - loss: 2.1490 - accuracy: 0.5322 - val_loss: 2.0697 - val_accuracy: 0.6189\n",
      "Epoch 3/10\n",
      "469/469 [==============================] - 41s 88ms/step - loss: 1.9615 - accuracy: 0.6624 - val_loss: 1.8152 - val_accuracy: 0.7046\n",
      "Epoch 4/10\n",
      "469/469 [==============================] - 37s 78ms/step - loss: 1.6332 - accuracy: 0.7245 - val_loss: 1.4034 - val_accuracy: 0.7633\n",
      "Epoch 5/10\n",
      "469/469 [==============================] - 32s 68ms/step - loss: 1.2068 - accuracy: 0.7736 - val_loss: 0.9889 - val_accuracy: 0.8118\n",
      "Epoch 6/10\n",
      "469/469 [==============================] - 34s 73ms/step - loss: 0.8748 - accuracy: 0.8113 - val_loss: 0.7344 - val_accuracy: 0.8380\n",
      "Epoch 7/10\n",
      "469/469 [==============================] - 34s 73ms/step - loss: 0.6861 - accuracy: 0.8366 - val_loss: 0.5968 - val_accuracy: 0.8566\n",
      "Epoch 8/10\n",
      "469/469 [==============================] - 36s 77ms/step - loss: 0.5802 - accuracy: 0.8535 - val_loss: 0.5175 - val_accuracy: 0.8675\n",
      "Epoch 9/10\n",
      "469/469 [==============================] - 34s 73ms/step - loss: 0.5154 - accuracy: 0.8645 - val_loss: 0.4666 - val_accuracy: 0.8780\n",
      "Epoch 10/10\n",
      "469/469 [==============================] - 45s 95ms/step - loss: 0.4721 - accuracy: 0.8729 - val_loss: 0.4314 - val_accuracy: 0.8864\n",
      "The Model has Successfully Trained\n"
     ]
    }
   ],
   "source": [
    "model = Sequential()\n",
    "model.add(Conv2D(32, kernel_size=(3,3), activation='relu', input_shape=input_shape))\n",
    "model.add(Conv2D(64, (3,3), activation='relu'))\n",
    "model.add(MaxPooling2D(pool_size=(2,2)))\n",
    "model.add(Flatten())\n",
    "model.add(Dense(256, activation='relu'))\n",
    "model.add(Dense(num_classes, activation='softmax'))\n",
    "model.compile(loss=keras.losses.categorical_crossentropy, \n",
    "              optimizer=keras.optimizers.Adadelta(),\n",
    "              metrics=['accuracy'])\n",
    "\n",
    "model.fit(X_train,y_train, \n",
    "          batch_size=128,epochs=10,verbose=1,validation_data=(X_test, y_test))\n",
    "print(\"The Model has Successfully Trained\")"
   ]
  },
  {
   "cell_type": "code",
   "execution_count": 6,
   "metadata": {},
   "outputs": [
    {
     "name": "stdout",
     "output_type": "stream",
     "text": [
      "313/313 - 3s - loss: 0.4314 - accuracy: 0.8864 - 3s/epoch - 9ms/step\n",
      "test loss: 0.4314066767692566\n",
      "test accuracy: 0.8863999843597412\n"
     ]
    }
   ],
   "source": [
    "score=model.evaluate(X_test,y_test, verbose=2)\n",
    "print('test loss:', score[0])\n",
    "print('test accuracy:', score[1])"
   ]
  }
 ],
 "metadata": {
  "kernelspec": {
   "display_name": "Python 3",
   "language": "python",
   "name": "python3"
  },
  "language_info": {
   "codemirror_mode": {
    "name": "ipython",
    "version": 3
   },
   "file_extension": ".py",
   "mimetype": "text/x-python",
   "name": "python",
   "nbconvert_exporter": "python",
   "pygments_lexer": "ipython3",
   "version": "3.8.1"
  },
  "orig_nbformat": 4
 },
 "nbformat": 4,
 "nbformat_minor": 2
}
