{
 "cells": [
  {
   "cell_type": "code",
   "execution_count": null,
   "metadata": {},
   "outputs": [],
   "source": [
    "from ultralytics import YOLO\n",
    "import cv2\n",
    "import matplotlib.pyplot as plt\n",
    "import time\n",
    "import numpy as np"
   ]
  },
  {
   "cell_type": "code",
   "execution_count": null,
   "metadata": {},
   "outputs": [],
   "source": [
    "def prediction(model_path, img):\n",
    "    model = YOLO(model_path)\n",
    "    t0 = time.time()\n",
    "    results = model(img, verbose=False)\n",
    "    comp_time = time.time()-t0\n",
    "    return results[0], comp_time\n",
    "\n",
    "\n",
    "yolo_n = 'yolov8n.pt'\n",
    "yolo_m = 'yolov8m.pt'\n",
    "yolo_l = 'yolov8l.pt'\n",
    "yolo_x = 'yolov8x.pt'\n",
    "\n",
    "img_path = 'construction.jpg'\n",
    "img = cv2.cvtColor(cv2.imread(img_path), cv2.COLOR_BGR2RGB) \n",
    "comp_times = []\n",
    "\n",
    "for path in (yolo_n, yolo_m, yolo_l, yolo_x):\n",
    "    res, t = prediction(path, img)\n",
    "    comp_times.append(t)"
   ]
  },
  {
   "cell_type": "code",
   "execution_count": null,
   "metadata": {},
   "outputs": [],
   "source": [
    "annotated_frame = res.plot()\n",
    "plt.imshow(annotated_frame)\n"
   ]
  },
  {
   "cell_type": "code",
   "execution_count": null,
   "metadata": {},
   "outputs": [],
   "source": [
    "model_names = ['yolov8n', 'yolov8m', 'yolov8l', 'yolov8x']\n",
    "# Plotting computation times\n",
    "plt.figure(figsize=(10, 6))\n",
    "plt.bar(model_names, comp_times, color=['blue', 'green', 'yellow', 'red'])\n",
    "plt.xlabel('Model')\n",
    "plt.ylabel('Computation Time (s)')\n",
    "plt.title('Comparison of Computation Times for Different YOLO Models')\n",
    "plt.show()"
   ]
  },
  {
   "cell_type": "code",
   "execution_count": null,
   "metadata": {},
   "outputs": [],
   "source": [
    "def plot_result(img, result):\n",
    "    result = result.cpu().numpy()\n",
    "    coords = result.boxes.xyxy\n",
    "    names = result.names\n",
    "    for i in range(len(coords)):\n",
    "        id = names[result.boxes.cls[i]]\n",
    "        random_color = (255*np.random.randint(0, 2), 255*np.random.randint(0, 2), 255*np.random.randint(0, 2))\n",
    "        cv2.rectangle(img, (int(coords[i,0]), int(coords[i,1])), (int(coords[i,2]), int(coords[i,3])), color=random_color, thickness=3)\n",
    "        cv2.rectangle(img, (int(coords[i,0]), int(coords[i,1])), (int(coords[i,0]+200), int(coords[i,1])-40), (255, 255, 255), -1)\n",
    "        cv2.putText(img, id, (int(coords[i,0]), int(coords[i,1]-10)), cv2.FONT_HERSHEY_SIMPLEX, 1, (0, 0, 0), 2)\n",
    "\n",
    "    plt.imshow(img)\n",
    "\n",
    "\n",
    "img = cv2.cvtColor(cv2.imread(img_path), cv2.COLOR_BGR2RGB) \n",
    "plot_result(img, res)"
   ]
  }
 ],
 "metadata": {
  "kernelspec": {
   "display_name": "ml_vision",
   "language": "python",
   "name": "python3"
  },
  "language_info": {
   "codemirror_mode": {
    "name": "ipython",
    "version": 3
   },
   "file_extension": ".py",
   "mimetype": "text/x-python",
   "name": "python",
   "nbconvert_exporter": "python",
   "pygments_lexer": "ipython3",
   "version": "3.8.1"
  },
  "orig_nbformat": 4
 },
 "nbformat": 4,
 "nbformat_minor": 2
}
