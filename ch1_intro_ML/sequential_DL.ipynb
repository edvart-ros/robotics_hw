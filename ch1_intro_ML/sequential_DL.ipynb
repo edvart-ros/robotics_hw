{
 "cells": [
  {
   "cell_type": "markdown",
   "metadata": {},
   "source": [
    "## Case study deep learning for sequential data (time series)\n",
    "\n",
    "using RNN to predict whether a student has understood a lecture, based on EEG/brain data"
   ]
  },
  {
   "cell_type": "code",
   "execution_count": 8,
   "metadata": {},
   "outputs": [],
   "source": [
    "import numpy as np\n",
    "import matplotlib.pyplot as plt\n",
    "import pandas as pd"
   ]
  },
  {
   "cell_type": "code",
   "execution_count": 16,
   "metadata": {},
   "outputs": [],
   "source": [
    "def parse_and_separate_input_output(file, output_list):\n",
    "    df = pd.read_csv('eeg/EEG_data.csv')\n",
    "    df_input_data = df.drop(output_list, axis=1)\n",
    "    df_output_data = df[output_list]\n",
    "    return df_input_data, df_output_data"
   ]
  },
  {
   "cell_type": "code",
   "execution_count": 17,
   "metadata": {},
   "outputs": [],
   "source": [
    "X, Y = parse_and_separate_input_output('eeg/EEG_data.csv', output_list=[\"subject_understood\"])"
   ]
  }
 ],
 "metadata": {
  "kernelspec": {
   "display_name": "ml_vision",
   "language": "python",
   "name": "python3"
  },
  "language_info": {
   "codemirror_mode": {
    "name": "ipython",
    "version": 3
   },
   "file_extension": ".py",
   "mimetype": "text/x-python",
   "name": "python",
   "nbconvert_exporter": "python",
   "pygments_lexer": "ipython3",
   "version": "3.8.1"
  },
  "orig_nbformat": 4
 },
 "nbformat": 4,
 "nbformat_minor": 2
}
