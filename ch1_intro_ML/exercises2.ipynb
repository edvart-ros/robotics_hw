{
 "cells": [
  {
   "cell_type": "code",
   "execution_count": 105,
   "metadata": {},
   "outputs": [],
   "source": [
    "import keras\n",
    "from keras.models import Sequential\n",
    "from keras.layers import Dense, Flatten, Dropout\n",
    "from keras.layers import Conv2D, MaxPooling2D, Conv1D\n",
    "from keras.datasets import mnist\n",
    "import matplotlib.pyplot as plt\n",
    "import numpy as np"
   ]
  },
  {
   "cell_type": "code",
   "execution_count": 106,
   "metadata": {},
   "outputs": [
    {
     "name": "stdout",
     "output_type": "stream",
     "text": [
      "3\n"
     ]
    },
    {
     "data": {
      "image/png": "[encoded data removed]",
      "text/plain": [
       "<Figure size 640x480 with 1 Axes>"
      ]
     },
     "metadata": {},
     "output_type": "display_data"
    }
   ],
   "source": [
    "(X_train, y_train), (X_test, y_test) = mnist.load_data()\n",
    "plt.imshow(X_train[2917], cmap='gray')\n",
    "print(y_train[2917])"
   ]
  },
  {
   "cell_type": "code",
   "execution_count": 107,
   "metadata": {},
   "outputs": [],
   "source": [
    "X_train = np.reshape(X_train, (X_train.shape[0], 28, 28, 1))\n",
    "X_test = np.reshape(X_test, (X_test.shape[0], 28, 28, 1))\n",
    "\n",
    "num_classes = 10\n",
    "input_shape = (28, 28, 1)\n",
    "\n",
    "y_train = keras.utils.to_categorical(y_train, num_classes)\n",
    "y_test = keras.utils.to_categorical(y_test, num_classes)\n",
    "X_train = X_train.astype('float32')\n",
    "X_test = X_test.astype('float32')\n",
    "X_train = X_train/255\n",
    "X_test = X_test/255"
   ]
  },
  {
   "cell_type": "code",
   "execution_count": 108,
   "metadata": {},
   "outputs": [],
   "source": [
    "def create_nn(x_train, y_train, x_test, y_test):\n",
    "    model = Sequential()\n",
    "    model.add(Conv2D(32, kernel_size=(3,3), activation='relu', input_shape=input_shape))\n",
    "    model.add(Flatten())\n",
    "    model.add(Dropout(0.2))\n",
    "    model.add(Dense(10, activation='softmax'))\n",
    "    model.compile(loss=keras.losses.categorical_crossentropy, \n",
    "                  optimizer=keras.optimizers.Adadelta(), metrics=['accuracy'])\n",
    "    \n",
    "    history = model.fit(x_train, y_train, \n",
    "              batch_size=4000, \n",
    "              epochs=100, \n",
    "              verbose=1, \n",
    "              validation_data=(x_test, y_test),\n",
    "              validation_split=0.1)\n",
    "    print(\"finished training model\")\n",
    "    score = model.evaluate(x_test, y_test, verbose=2)\n",
    "    print(f\"loss: {score[0]}\")\n",
    "    print(f\"accuracy: {score[1]}\")\n",
    "    return model, history\n"
   ]
  },
  {
   "cell_type": "code",
   "execution_count": 109,
   "metadata": {},
   "outputs": [
    {
     "name": "stdout",
     "output_type": "stream",
     "text": [
      "Epoch 1/100\n",
      "15/15 [==============================] - 14s 879ms/step - loss: 2.3072 - accuracy: 0.0626 - val_loss: 2.3066 - val_accuracy: 0.0552\n",
      "Epoch 2/100\n",
      "15/15 [==============================] - 12s 831ms/step - loss: 2.3052 - accuracy: 0.0683 - val_loss: 2.3042 - val_accuracy: 0.0593\n",
      "Epoch 3/100\n",
      "15/15 [==============================] - 12s 807ms/step - loss: 2.3028 - accuracy: 0.0713 - val_loss: 2.3018 - val_accuracy: 0.0654\n",
      "Epoch 4/100\n",
      "15/15 [==============================] - 12s 795ms/step - loss: 2.3005 - accuracy: 0.0755 - val_loss: 2.2994 - val_accuracy: 0.0710\n",
      "Epoch 5/100\n",
      "15/15 [==============================] - 12s 789ms/step - loss: 2.2980 - accuracy: 0.0818 - val_loss: 2.2970 - val_accuracy: 0.0772\n",
      "Epoch 6/100\n",
      "15/15 [==============================] - 12s 806ms/step - loss: 2.2957 - accuracy: 0.0875 - val_loss: 2.2945 - val_accuracy: 0.0841\n",
      "Epoch 7/100\n",
      "15/15 [==============================] - 12s 815ms/step - loss: 2.2931 - accuracy: 0.0930 - val_loss: 2.2920 - val_accuracy: 0.0908\n",
      "Epoch 8/100\n",
      "15/15 [==============================] - 13s 844ms/step - loss: 2.2909 - accuracy: 0.0994 - val_loss: 2.2895 - val_accuracy: 0.0979\n",
      "Epoch 9/100\n",
      "15/15 [==============================] - 12s 820ms/step - loss: 2.2886 - accuracy: 0.1057 - val_loss: 2.2869 - val_accuracy: 0.1056\n",
      "Epoch 10/100\n",
      "15/15 [==============================] - 12s 825ms/step - loss: 2.2860 - accuracy: 0.1131 - val_loss: 2.2843 - val_accuracy: 0.1152\n",
      "Epoch 11/100\n",
      "15/15 [==============================] - 12s 833ms/step - loss: 2.2831 - accuracy: 0.1208 - val_loss: 2.2817 - val_accuracy: 0.1233\n",
      "Epoch 12/100\n",
      "15/15 [==============================] - 12s 807ms/step - loss: 2.2807 - accuracy: 0.1306 - val_loss: 2.2791 - val_accuracy: 0.1304\n",
      "Epoch 13/100\n",
      "15/15 [==============================] - 12s 835ms/step - loss: 2.2781 - accuracy: 0.1354 - val_loss: 2.2764 - val_accuracy: 0.1384\n",
      "Epoch 14/100\n",
      "15/15 [==============================] - 13s 858ms/step - loss: 2.2754 - accuracy: 0.1442 - val_loss: 2.2736 - val_accuracy: 0.1475\n",
      "Epoch 15/100\n",
      "15/15 [==============================] - 12s 805ms/step - loss: 2.2727 - accuracy: 0.1519 - val_loss: 2.2709 - val_accuracy: 0.1560\n",
      "Epoch 16/100\n",
      "15/15 [==============================] - 13s 844ms/step - loss: 2.2699 - accuracy: 0.1613 - val_loss: 2.2681 - val_accuracy: 0.1644\n",
      "Epoch 17/100\n",
      "15/15 [==============================] - 12s 825ms/step - loss: 2.2673 - accuracy: 0.1698 - val_loss: 2.2653 - val_accuracy: 0.1725\n",
      "Epoch 18/100\n",
      "15/15 [==============================] - 12s 829ms/step - loss: 2.2647 - accuracy: 0.1762 - val_loss: 2.2624 - val_accuracy: 0.1813\n",
      "Epoch 19/100\n",
      "15/15 [==============================] - 13s 849ms/step - loss: 2.2618 - accuracy: 0.1854 - val_loss: 2.2595 - val_accuracy: 0.1928\n",
      "Epoch 20/100\n",
      "15/15 [==============================] - 12s 818ms/step - loss: 2.2589 - accuracy: 0.1946 - val_loss: 2.2566 - val_accuracy: 0.2018\n",
      "Epoch 21/100\n",
      "15/15 [==============================] - 12s 777ms/step - loss: 2.2561 - accuracy: 0.2023 - val_loss: 2.2536 - val_accuracy: 0.2111\n",
      "Epoch 22/100\n",
      "15/15 [==============================] - 12s 824ms/step - loss: 2.2527 - accuracy: 0.2135 - val_loss: 2.2506 - val_accuracy: 0.2221\n",
      "Epoch 23/100\n",
      "15/15 [==============================] - 12s 777ms/step - loss: 2.2502 - accuracy: 0.2200 - val_loss: 2.2475 - val_accuracy: 0.2302\n",
      "Epoch 24/100\n",
      "15/15 [==============================] - 12s 810ms/step - loss: 2.2470 - accuracy: 0.2317 - val_loss: 2.2444 - val_accuracy: 0.2398\n",
      "Epoch 25/100\n",
      "15/15 [==============================] - 12s 809ms/step - loss: 2.2443 - accuracy: 0.2393 - val_loss: 2.2412 - val_accuracy: 0.2521\n",
      "Epoch 26/100\n",
      "15/15 [==============================] - 13s 867ms/step - loss: 2.2409 - accuracy: 0.2488 - val_loss: 2.2380 - val_accuracy: 0.2634\n",
      "Epoch 27/100\n",
      "15/15 [==============================] - 12s 823ms/step - loss: 2.2376 - accuracy: 0.2592 - val_loss: 2.2347 - val_accuracy: 0.2751\n",
      "Epoch 28/100\n",
      "15/15 [==============================] - 12s 826ms/step - loss: 2.2345 - accuracy: 0.2675 - val_loss: 2.2314 - val_accuracy: 0.2858\n",
      "Epoch 29/100\n",
      "15/15 [==============================] - 12s 816ms/step - loss: 2.2313 - accuracy: 0.2791 - val_loss: 2.2281 - val_accuracy: 0.2982\n",
      "Epoch 30/100\n",
      "15/15 [==============================] - 12s 816ms/step - loss: 2.2277 - accuracy: 0.2910 - val_loss: 2.2246 - val_accuracy: 0.3112\n",
      "Epoch 31/100\n",
      "15/15 [==============================] - 12s 810ms/step - loss: 2.2245 - accuracy: 0.2992 - val_loss: 2.2212 - val_accuracy: 0.3249\n",
      "Epoch 32/100\n",
      "15/15 [==============================] - 12s 813ms/step - loss: 2.2210 - accuracy: 0.3113 - val_loss: 2.2176 - val_accuracy: 0.3363\n",
      "Epoch 33/100\n",
      "15/15 [==============================] - 12s 810ms/step - loss: 2.2175 - accuracy: 0.3224 - val_loss: 2.2140 - val_accuracy: 0.3480\n",
      "Epoch 34/100\n",
      "15/15 [==============================] - 13s 838ms/step - loss: 2.2141 - accuracy: 0.3326 - val_loss: 2.2104 - val_accuracy: 0.3586\n",
      "Epoch 35/100\n",
      "15/15 [==============================] - 13s 874ms/step - loss: 2.2103 - accuracy: 0.3420 - val_loss: 2.2067 - val_accuracy: 0.3719\n",
      "Epoch 36/100\n",
      "15/15 [==============================] - 12s 824ms/step - loss: 2.2068 - accuracy: 0.3548 - val_loss: 2.2029 - val_accuracy: 0.3841\n",
      "Epoch 37/100\n",
      "15/15 [==============================] - 13s 859ms/step - loss: 2.2030 - accuracy: 0.3618 - val_loss: 2.1990 - val_accuracy: 0.3972\n",
      "Epoch 38/100\n",
      "15/15 [==============================] - 12s 822ms/step - loss: 2.1993 - accuracy: 0.3729 - val_loss: 2.1951 - val_accuracy: 0.4086\n",
      "Epoch 39/100\n",
      "15/15 [==============================] - 12s 823ms/step - loss: 2.1954 - accuracy: 0.3829 - val_loss: 2.1911 - val_accuracy: 0.4213\n",
      "Epoch 40/100\n",
      "15/15 [==============================] - 12s 822ms/step - loss: 2.1914 - accuracy: 0.3940 - val_loss: 2.1870 - val_accuracy: 0.4341\n",
      "Epoch 41/100\n",
      "15/15 [==============================] - 12s 801ms/step - loss: 2.1873 - accuracy: 0.4067 - val_loss: 2.1829 - val_accuracy: 0.4451\n",
      "Epoch 42/100\n",
      "15/15 [==============================] - 12s 823ms/step - loss: 2.1831 - accuracy: 0.4193 - val_loss: 2.1787 - val_accuracy: 0.4567\n",
      "Epoch 43/100\n",
      "15/15 [==============================] - 12s 817ms/step - loss: 2.1794 - accuracy: 0.4261 - val_loss: 2.1744 - val_accuracy: 0.4683\n",
      "Epoch 44/100\n",
      "15/15 [==============================] - 13s 849ms/step - loss: 2.1751 - accuracy: 0.4370 - val_loss: 2.1700 - val_accuracy: 0.4788\n",
      "Epoch 45/100\n",
      "15/15 [==============================] - 13s 840ms/step - loss: 2.1706 - accuracy: 0.4473 - val_loss: 2.1655 - val_accuracy: 0.4897\n",
      "Epoch 46/100\n",
      "15/15 [==============================] - 12s 822ms/step - loss: 2.1662 - accuracy: 0.4581 - val_loss: 2.1609 - val_accuracy: 0.4985\n",
      "Epoch 47/100\n",
      "15/15 [==============================] - 12s 823ms/step - loss: 2.1618 - accuracy: 0.4697 - val_loss: 2.1563 - val_accuracy: 0.5087\n",
      "Epoch 48/100\n",
      "15/15 [==============================] - 12s 811ms/step - loss: 2.1571 - accuracy: 0.4814 - val_loss: 2.1516 - val_accuracy: 0.5196\n",
      "Epoch 49/100\n",
      "15/15 [==============================] - 13s 842ms/step - loss: 2.1524 - accuracy: 0.4885 - val_loss: 2.1468 - val_accuracy: 0.5309\n",
      "Epoch 50/100\n",
      "15/15 [==============================] - 12s 822ms/step - loss: 2.1476 - accuracy: 0.4996 - val_loss: 2.1418 - val_accuracy: 0.5417\n",
      "Epoch 51/100\n",
      "15/15 [==============================] - 12s 810ms/step - loss: 2.1428 - accuracy: 0.5075 - val_loss: 2.1368 - val_accuracy: 0.5509\n",
      "Epoch 52/100\n",
      "15/15 [==============================] - 13s 852ms/step - loss: 2.1377 - accuracy: 0.5178 - val_loss: 2.1317 - val_accuracy: 0.5600\n",
      "Epoch 53/100\n",
      "15/15 [==============================] - 12s 786ms/step - loss: 2.1327 - accuracy: 0.5278 - val_loss: 2.1265 - val_accuracy: 0.5706\n",
      "Epoch 54/100\n",
      "15/15 [==============================] - 12s 781ms/step - loss: 2.1277 - accuracy: 0.5335 - val_loss: 2.1211 - val_accuracy: 0.5788\n",
      "Epoch 55/100\n",
      "15/15 [==============================] - 12s 783ms/step - loss: 2.1222 - accuracy: 0.5424 - val_loss: 2.1157 - val_accuracy: 0.5867\n",
      "Epoch 56/100\n",
      "15/15 [==============================] - 12s 783ms/step - loss: 2.1170 - accuracy: 0.5515 - val_loss: 2.1102 - val_accuracy: 0.5918\n",
      "Epoch 57/100\n",
      "15/15 [==============================] - 12s 793ms/step - loss: 2.1115 - accuracy: 0.5592 - val_loss: 2.1045 - val_accuracy: 0.5983\n",
      "Epoch 58/100\n",
      "15/15 [==============================] - 12s 826ms/step - loss: 2.1061 - accuracy: 0.5671 - val_loss: 2.0988 - val_accuracy: 0.6056\n",
      "Epoch 59/100\n",
      "15/15 [==============================] - 12s 784ms/step - loss: 2.1004 - accuracy: 0.5741 - val_loss: 2.0929 - val_accuracy: 0.6136\n",
      "Epoch 60/100\n",
      "15/15 [==============================] - 12s 782ms/step - loss: 2.0944 - accuracy: 0.5829 - val_loss: 2.0869 - val_accuracy: 0.6213\n",
      "Epoch 61/100\n",
      "15/15 [==============================] - 12s 769ms/step - loss: 2.0887 - accuracy: 0.5873 - val_loss: 2.0808 - val_accuracy: 0.6267\n",
      "Epoch 62/100\n",
      "15/15 [==============================] - 12s 776ms/step - loss: 2.0828 - accuracy: 0.5944 - val_loss: 2.0745 - val_accuracy: 0.6330\n",
      "Epoch 63/100\n",
      "15/15 [==============================] - 12s 819ms/step - loss: 2.0765 - accuracy: 0.6002 - val_loss: 2.0682 - val_accuracy: 0.6383\n",
      "Epoch 64/100\n",
      "15/15 [==============================] - 13s 815ms/step - loss: 2.0700 - accuracy: 0.6070 - val_loss: 2.0617 - val_accuracy: 0.6439\n",
      "Epoch 65/100\n",
      "15/15 [==============================] - 12s 812ms/step - loss: 2.0637 - accuracy: 0.6133 - val_loss: 2.0551 - val_accuracy: 0.6496\n",
      "Epoch 66/100\n",
      "15/15 [==============================] - 12s 808ms/step - loss: 2.0572 - accuracy: 0.6213 - val_loss: 2.0483 - val_accuracy: 0.6536\n",
      "Epoch 67/100\n",
      "15/15 [==============================] - 13s 848ms/step - loss: 2.0503 - accuracy: 0.6247 - val_loss: 2.0414 - val_accuracy: 0.6573\n",
      "Epoch 68/100\n",
      "15/15 [==============================] - 12s 831ms/step - loss: 2.0438 - accuracy: 0.6280 - val_loss: 2.0344 - val_accuracy: 0.6636\n",
      "Epoch 69/100\n",
      "15/15 [==============================] - 12s 827ms/step - loss: 2.0368 - accuracy: 0.6356 - val_loss: 2.0272 - val_accuracy: 0.6675\n",
      "Epoch 70/100\n",
      "15/15 [==============================] - 12s 823ms/step - loss: 2.0294 - accuracy: 0.6416 - val_loss: 2.0199 - val_accuracy: 0.6711\n",
      "Epoch 71/100\n",
      "15/15 [==============================] - 12s 807ms/step - loss: 2.0226 - accuracy: 0.6451 - val_loss: 2.0125 - val_accuracy: 0.6759\n",
      "Epoch 72/100\n",
      "15/15 [==============================] - 12s 807ms/step - loss: 2.0152 - accuracy: 0.6482 - val_loss: 2.0049 - val_accuracy: 0.6797\n",
      "Epoch 73/100\n",
      "15/15 [==============================] - 12s 814ms/step - loss: 2.0077 - accuracy: 0.6546 - val_loss: 1.9972 - val_accuracy: 0.6846\n",
      "Epoch 74/100\n",
      "15/15 [==============================] - 12s 815ms/step - loss: 2.0000 - accuracy: 0.6587 - val_loss: 1.9893 - val_accuracy: 0.6879\n",
      "Epoch 75/100\n",
      "15/15 [==============================] - 13s 847ms/step - loss: 1.9925 - accuracy: 0.6626 - val_loss: 1.9813 - val_accuracy: 0.6917\n",
      "Epoch 76/100\n",
      "15/15 [==============================] - 13s 875ms/step - loss: 1.9845 - accuracy: 0.6658 - val_loss: 1.9732 - val_accuracy: 0.6940\n",
      "Epoch 77/100\n",
      "15/15 [==============================] - 12s 828ms/step - loss: 1.9765 - accuracy: 0.6685 - val_loss: 1.9649 - val_accuracy: 0.6969\n",
      "Epoch 78/100\n",
      "15/15 [==============================] - 12s 809ms/step - loss: 1.9683 - accuracy: 0.6722 - val_loss: 1.9564 - val_accuracy: 0.6988\n",
      "Epoch 79/100\n",
      "15/15 [==============================] - 12s 818ms/step - loss: 1.9599 - accuracy: 0.6765 - val_loss: 1.9478 - val_accuracy: 0.7026\n",
      "Epoch 80/100\n",
      "15/15 [==============================] - 12s 801ms/step - loss: 1.9511 - accuracy: 0.6820 - val_loss: 1.9390 - val_accuracy: 0.7047\n",
      "Epoch 81/100\n",
      "15/15 [==============================] - 12s 788ms/step - loss: 1.9429 - accuracy: 0.6857 - val_loss: 1.9301 - val_accuracy: 0.7065\n",
      "Epoch 82/100\n",
      "15/15 [==============================] - 12s 808ms/step - loss: 1.9340 - accuracy: 0.6873 - val_loss: 1.9210 - val_accuracy: 0.7089\n",
      "Epoch 83/100\n",
      "15/15 [==============================] - 12s 807ms/step - loss: 1.9252 - accuracy: 0.6914 - val_loss: 1.9118 - val_accuracy: 0.7109\n",
      "Epoch 84/100\n",
      "15/15 [==============================] - 12s 817ms/step - loss: 1.9161 - accuracy: 0.6943 - val_loss: 1.9024 - val_accuracy: 0.7120\n",
      "Epoch 85/100\n",
      "15/15 [==============================] - 12s 806ms/step - loss: 1.9068 - accuracy: 0.6965 - val_loss: 1.8929 - val_accuracy: 0.7142\n",
      "Epoch 86/100\n",
      "15/15 [==============================] - 12s 810ms/step - loss: 1.8979 - accuracy: 0.7001 - val_loss: 1.8832 - val_accuracy: 0.7172\n",
      "Epoch 87/100\n",
      "15/15 [==============================] - 12s 805ms/step - loss: 1.8878 - accuracy: 0.7034 - val_loss: 1.8733 - val_accuracy: 0.7198\n",
      "Epoch 88/100\n",
      "15/15 [==============================] - 12s 799ms/step - loss: 1.8782 - accuracy: 0.7050 - val_loss: 1.8633 - val_accuracy: 0.7222\n",
      "Epoch 89/100\n",
      "15/15 [==============================] - 12s 810ms/step - loss: 1.8686 - accuracy: 0.7069 - val_loss: 1.8532 - val_accuracy: 0.7250\n",
      "Epoch 90/100\n",
      "15/15 [==============================] - 12s 825ms/step - loss: 1.8586 - accuracy: 0.7110 - val_loss: 1.8428 - val_accuracy: 0.7263\n",
      "Epoch 91/100\n",
      "15/15 [==============================] - 12s 805ms/step - loss: 1.8482 - accuracy: 0.7117 - val_loss: 1.8324 - val_accuracy: 0.7295\n",
      "Epoch 92/100\n",
      "15/15 [==============================] - 12s 775ms/step - loss: 1.8381 - accuracy: 0.7167 - val_loss: 1.8218 - val_accuracy: 0.7313\n",
      "Epoch 93/100\n",
      "15/15 [==============================] - 12s 809ms/step - loss: 1.8274 - accuracy: 0.7198 - val_loss: 1.8110 - val_accuracy: 0.7323\n",
      "Epoch 94/100\n",
      "15/15 [==============================] - 12s 825ms/step - loss: 1.8170 - accuracy: 0.7195 - val_loss: 1.8001 - val_accuracy: 0.7343\n",
      "Epoch 95/100\n",
      "15/15 [==============================] - 12s 775ms/step - loss: 1.8063 - accuracy: 0.7234 - val_loss: 1.7890 - val_accuracy: 0.7365\n",
      "Epoch 96/100\n",
      "15/15 [==============================] - 12s 786ms/step - loss: 1.7952 - accuracy: 0.7255 - val_loss: 1.7778 - val_accuracy: 0.7393\n",
      "Epoch 97/100\n",
      "15/15 [==============================] - 12s 808ms/step - loss: 1.7840 - accuracy: 0.7275 - val_loss: 1.7665 - val_accuracy: 0.7409\n",
      "Epoch 98/100\n",
      "15/15 [==============================] - 12s 805ms/step - loss: 1.7732 - accuracy: 0.7293 - val_loss: 1.7550 - val_accuracy: 0.7434\n",
      "Epoch 99/100\n",
      "15/15 [==============================] - 12s 811ms/step - loss: 1.7618 - accuracy: 0.7329 - val_loss: 1.7434 - val_accuracy: 0.7453\n",
      "Epoch 100/100\n",
      "15/15 [==============================] - 12s 807ms/step - loss: 1.7503 - accuracy: 0.7349 - val_loss: 1.7317 - val_accuracy: 0.7475\n",
      "finished training model\n",
      "313/313 - 9s - loss: 1.7317 - accuracy: 0.7475 - 9s/epoch - 28ms/step\n",
      "loss: 1.7316808700561523\n",
      "accuracy: 0.7475000023841858\n"
     ]
    }
   ],
   "source": [
    "nn, history = create_nn(X_train, y_train, X_test, y_test)"
   ]
  },
  {
   "cell_type": "code",
   "execution_count": 113,
   "metadata": {},
   "outputs": [
    {
     "name": "stdout",
     "output_type": "stream",
     "text": [
      "313/313 [==============================] - 6s 21ms/step\n"
     ]
    }
   ],
   "source": [
    "prediction = nn.predict(X_test)"
   ]
  },
  {
   "cell_type": "code",
   "execution_count": 114,
   "metadata": {},
   "outputs": [
    {
     "name": "stdout",
     "output_type": "stream",
     "text": [
      "prediction: 3, confidence: 0.21921226382255554\n"
     ]
    },
    {
     "data": {
      "image/png": "[encoded data removed]",
      "text/plain": [
       "<Figure size 640x480 with 1 Axes>"
      ]
     },
     "metadata": {},
     "output_type": "display_data"
    }
   ],
   "source": [
    "sample = 5000\n",
    "plt.imshow(X_test[sample], cmap='gray')\n",
    "print(f\"prediction: {np.argmax(prediction[sample])}, confidence: {max(prediction[sample])}\")"
   ]
  },
  {
   "cell_type": "code",
   "execution_count": 137,
   "metadata": {},
   "outputs": [
    {
     "name": "stdout",
     "output_type": "stream",
     "text": [
      "dict_keys(['loss', 'accuracy', 'val_loss', 'val_accuracy'])\n"
     ]
    },
    {
     "data": {
      "text/plain": [
       "[<matplotlib.lines.Line2D at 0x1d98ad7fb20>]"
      ]
     },
     "execution_count": 137,
     "metadata": {},
     "output_type": "execute_result"
    },
    {
     "data": {
      "image/png": "[encoded data removed]",
      "text/plain": [
       "<Figure size 640x480 with 2 Axes>"
      ]
     },
     "metadata": {},
     "output_type": "display_data"
    }
   ],
   "source": [
    "print(history.history.keys())\n",
    "plt.subplot(1, 2, 1).plot(history.history['accuracy'])\n",
    "plt.subplot(1, 2, 2).plot(history.history['loss'])"
   ]
  },
  {
   "cell_type": "markdown",
   "metadata": {},
   "source": [
    "# Exercise 2"
   ]
  },
  {
   "cell_type": "code",
   "execution_count": null,
   "metadata": {},
   "outputs": [],
   "source": []
  }
 ],
 "metadata": {
  "kernelspec": {
   "display_name": "ml_vision",
   "language": "python",
   "name": "python3"
  },
  "language_info": {
   "codemirror_mode": {
    "name": "ipython",
    "version": 3
   },
   "file_extension": ".py",
   "mimetype": "text/x-python",
   "name": "python",
   "nbconvert_exporter": "python",
   "pygments_lexer": "ipython3",
   "version": "3.8.1"
  },
  "orig_nbformat": 4
 },
 "nbformat": 4,
 "nbformat_minor": 2
}
